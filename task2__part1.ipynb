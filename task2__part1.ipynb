{
  "nbformat": 4,
  "nbformat_minor": 0,
  "metadata": {
    "colab": {
      "provenance": [],
      "authorship_tag": "ABX9TyNFJDLQa7t3LSnSecihvPVN",
      "include_colab_link": true
    },
    "kernelspec": {
      "name": "python3",
      "display_name": "Python 3"
    },
    "language_info": {
      "name": "python"
    }
  },
  "cells": [
    {
      "cell_type": "markdown",
      "metadata": {
        "id": "view-in-github",
        "colab_type": "text"
      },
      "source": [
        "<a href=\"https://colab.research.google.com/github/RuqsarFirdous/PREDICTIVE-ANALYSIS-USING-MACHINE-LEARNING/blob/main/task2__part1.ipynb\" target=\"_parent\"><img src=\"https://colab.research.google.com/assets/colab-badge.svg\" alt=\"Open In Colab\"/></a>"
      ]
    },
    {
      "cell_type": "code",
      "execution_count": null,
      "metadata": {
        "id": "eBFPYahytDPM"
      },
      "outputs": [],
      "source": [
        "import pandas as pd\n",
        "import numpy as np\n",
        "import matplotlib.pyplot as plt\n",
        "import seaborn as sns\n",
        "import warnings\n",
        "warnings.filterwarnings('ignore')"
      ]
    },
    {
      "cell_type": "code",
      "source": [
        "# For pretty plots\n",
        "%matplotlib inline\n",
        "sns.set_style(\"whitegrid\")"
      ],
      "metadata": {
        "id": "y3fWewSPw4Vb"
      },
      "execution_count": null,
      "outputs": []
    },
    {
      "cell_type": "code",
      "source": [
        "# Loading the files data\n",
        "flights=pd.read_csv(\"flights.csv\")\n",
        "print(\"Flights data:\")\n",
        "print(flights.head())"
      ],
      "metadata": {
        "colab": {
          "base_uri": "https://localhost:8080/"
        },
        "id": "Gs-NX-jhxBcZ",
        "outputId": "fdfc9fee-2c76-4e58-d39f-3e585087aa0d"
      },
      "execution_count": null,
      "outputs": [
        {
          "output_type": "stream",
          "name": "stdout",
          "text": [
            "Flights data:\n",
            "   YEAR  MONTH  DAY  DAY_OF_WEEK AIRLINE  FLIGHT_NUMBER TAIL_NUMBER  \\\n",
            "0  2015      1    1            4      AS             98      N407AS   \n",
            "1  2015      1    1            4      AA           2336      N3KUAA   \n",
            "2  2015      1    1            4      US            840      N171US   \n",
            "3  2015      1    1            4      AA            258      N3HYAA   \n",
            "4  2015      1    1            4      AS            135      N527AS   \n",
            "\n",
            "  ORIGIN_AIRPORT DESTINATION_AIRPORT  SCHEDULED_DEPARTURE  ...  ARRIVAL_TIME  \\\n",
            "0            ANC                 SEA                    5  ...         408.0   \n",
            "1            LAX                 PBI                   10  ...         741.0   \n",
            "2            SFO                 CLT                   20  ...         811.0   \n",
            "3            LAX                 MIA                   20  ...         756.0   \n",
            "4            SEA                 ANC                   25  ...         259.0   \n",
            "\n",
            "   ARRIVAL_DELAY  DIVERTED  CANCELLED  CANCELLATION_REASON  AIR_SYSTEM_DELAY  \\\n",
            "0          -22.0         0          0                  NaN               NaN   \n",
            "1           -9.0         0          0                  NaN               NaN   \n",
            "2            5.0         0          0                  NaN               NaN   \n",
            "3           -9.0         0          0                  NaN               NaN   \n",
            "4          -21.0         0          0                  NaN               NaN   \n",
            "\n",
            "   SECURITY_DELAY  AIRLINE_DELAY  LATE_AIRCRAFT_DELAY  WEATHER_DELAY  \n",
            "0             NaN            NaN                  NaN            NaN  \n",
            "1             NaN            NaN                  NaN            NaN  \n",
            "2             NaN            NaN                  NaN            NaN  \n",
            "3             NaN            NaN                  NaN            NaN  \n",
            "4             NaN            NaN                  NaN            NaN  \n",
            "\n",
            "[5 rows x 31 columns]\n"
          ]
        }
      ]
    },
    {
      "cell_type": "code",
      "source": [
        "# Loading the airlines data\n",
        "airlines=pd.read_csv(\"airlines.csv\")\n",
        "print(\"Airlines data:\")\n",
        "print(airlines.head())"
      ],
      "metadata": {
        "colab": {
          "base_uri": "https://localhost:8080/"
        },
        "id": "XkppkDlCx594",
        "outputId": "0a9b9dbe-d4a6-45cb-d21d-96fab70712da"
      },
      "execution_count": null,
      "outputs": [
        {
          "output_type": "stream",
          "name": "stdout",
          "text": [
            "Airlines data:\n",
            "  IATA_CODE                 AIRLINE\n",
            "0        UA   United Air Lines Inc.\n",
            "1        AA  American Airlines Inc.\n",
            "2        US         US Airways Inc.\n",
            "3        F9  Frontier Airlines Inc.\n",
            "4        B6         JetBlue Airways\n"
          ]
        }
      ]
    },
    {
      "cell_type": "code",
      "source": [
        "# Loading the airport data\n",
        "airports=pd.read_csv(\"airports.csv\")\n",
        "print(\"Airports data:\")\n",
        "print(airports.head())"
      ],
      "metadata": {
        "colab": {
          "base_uri": "https://localhost:8080/"
        },
        "id": "AFvJWakNyShX",
        "outputId": "76eec36f-dd48-467d-c291-5dd2b8f1c013"
      },
      "execution_count": null,
      "outputs": [
        {
          "output_type": "stream",
          "name": "stdout",
          "text": [
            "Airports data:\n",
            "  IATA_CODE                              AIRPORT         CITY STATE COUNTRY  \\\n",
            "0       ABE  Lehigh Valley International Airport    Allentown    PA     USA   \n",
            "1       ABI             Abilene Regional Airport      Abilene    TX     USA   \n",
            "2       ABQ    Albuquerque International Sunport  Albuquerque    NM     USA   \n",
            "3       ABR            Aberdeen Regional Airport     Aberdeen    SD     USA   \n",
            "4       ABY   Southwest Georgia Regional Airport       Albany    GA     USA   \n",
            "\n",
            "   LATITUDE  LONGITUDE  \n",
            "0  40.65236  -75.44040  \n",
            "1  32.41132  -99.68190  \n",
            "2  35.04022 -106.60919  \n",
            "3  45.44906  -98.42183  \n",
            "4  31.53552  -84.19447  \n"
          ]
        }
      ]
    },
    {
      "cell_type": "code",
      "source": [
        "#Merge flights with airlines to get AIRLINE_NAME\n",
        "flights=flights.merge(\n",
        "    airlines,\n",
        "    how='left',\n",
        "    left_on='AIRLINE',\n",
        "    right_on='IATA_CODE')\n",
        "\n",
        "flights.rename(columns={\n",
        "    \"AIRLINE_x\": \"AIRLINE_CODE\",\n",
        "    \"AIRLINE_y\": \"AIRLINE_NAME\"\n",
        "    },inplace=True)"
      ],
      "metadata": {
        "id": "nQvsehH2ydzY"
      },
      "execution_count": null,
      "outputs": []
    },
    {
      "cell_type": "code",
      "source": [
        "# Merge flights with airports to get ORIGIN CITY & STATE\n",
        "flights = flights.merge(\n",
        "    airports,\n",
        "    how=\"left\",\n",
        "    left_on=\"ORIGIN_AIRPORT\",\n",
        "    right_on=\"IATA_CODE\",\n",
        "    suffixes=(\"\", \"_ORIGIN\")\n",
        ")\n",
        "# Rename columns for clarity\n",
        "flights.rename(columns={\n",
        "    \"CITY\": \"ORIGIN_CITY\",\n",
        "    \"STATE\": \"ORIGIN_STATE\"\n",
        "}, inplace=True)\n"
      ],
      "metadata": {
        "id": "5MeKeiKA0F3Y"
      },
      "execution_count": null,
      "outputs": []
    },
    {
      "cell_type": "code",
      "source": [
        "# Quick check\n",
        "print(flights[[\n",
        "    \"AIRLINE_CODE\", \"AIRLINE_NAME\", \"ORIGIN_AIRPORT\", \"ORIGIN_CITY\", \"ORIGIN_STATE\"\n",
        "]].head())"
      ],
      "metadata": {
        "colab": {
          "base_uri": "https://localhost:8080/"
        },
        "id": "Px4di-A80nb5",
        "outputId": "1ecd7f4f-b154-447a-f2ec-dfe9c0f12c8d"
      },
      "execution_count": null,
      "outputs": [
        {
          "output_type": "stream",
          "name": "stdout",
          "text": [
            "  AIRLINE_CODE            AIRLINE_NAME ORIGIN_AIRPORT    ORIGIN_CITY  \\\n",
            "0           AS    Alaska Airlines Inc.            ANC      Anchorage   \n",
            "1           AA  American Airlines Inc.            LAX    Los Angeles   \n",
            "2           US         US Airways Inc.            SFO  San Francisco   \n",
            "3           AA  American Airlines Inc.            LAX    Los Angeles   \n",
            "4           AS    Alaska Airlines Inc.            SEA        Seattle   \n",
            "\n",
            "  ORIGIN_STATE  \n",
            "0           AK  \n",
            "1           CA  \n",
            "2           CA  \n",
            "3           CA  \n",
            "4           WA  \n"
          ]
        }
      ]
    },
    {
      "cell_type": "markdown",
      "source": [
        "### Create DELAYED column:"
      ],
      "metadata": {
        "id": "uHPL5tn6246t"
      }
    },
    {
      "cell_type": "code",
      "source": [
        "# If departure delay > 15 minutes → mark as delayed (1), else 0\n",
        "\n",
        "flights[\"DELAYED\"]=flights[\"DEPARTURE_DELAY\"].apply(\n",
        "    lambda x:1 if x > 15 else 0\n",
        ")\n",
        "print(flights[[\"DEPARTURE_DELAY\", \"DELAYED\"]].head())"
      ],
      "metadata": {
        "colab": {
          "base_uri": "https://localhost:8080/"
        },
        "id": "PdLW3OOc0x-3",
        "outputId": "e43c27bb-3e93-4db0-a703-7c3cc920ad0f"
      },
      "execution_count": null,
      "outputs": [
        {
          "output_type": "stream",
          "name": "stdout",
          "text": [
            "   DEPARTURE_DELAY  DELAYED\n",
            "0            -11.0        0\n",
            "1             -8.0        0\n",
            "2             -2.0        0\n",
            "3             -5.0        0\n",
            "4             -1.0        0\n"
          ]
        }
      ]
    },
    {
      "cell_type": "markdown",
      "source": [
        "###  EDA (Exploratory Data Analysis)."
      ],
      "metadata": {
        "id": "x8CxT28O3iM6"
      }
    },
    {
      "cell_type": "markdown",
      "source": [
        "####1️⃣ Check overall delay distribution"
      ],
      "metadata": {
        "id": "rmTeRcCd3pDe"
      }
    },
    {
      "cell_type": "code",
      "source": [
        "sns.countplot(x=\"DELAYED\",data=flights)\n",
        "plt.title(\"Flights: Delayed vs On-Time\")\n",
        "plt.xlabel(\"DELAYED (1 = Yes, 0 = No)\")\n",
        "plt.ylabel(\"Number of Flights\")\n",
        "plt.show()"
      ],
      "metadata": {
        "colab": {
          "base_uri": "https://localhost:8080/",
          "height": 472
        },
        "id": "EvwOyI7J1oyh",
        "outputId": "2f654e0e-3da0-4ff2-a337-b34124ab04a8"
      },
      "execution_count": null,
      "outputs": [
        {
          "output_type": "display_data",
          "data": {
            "text/plain": [
              "<Figure size 640x480 with 1 Axes>"
            ],
            "image/png": "[encoded data removed]"
          },
          "metadata": {}
        }
      ]
    },
    {
      "cell_type": "markdown",
      "source": [
        " #### 2️⃣ Check average departure delay by airline"
      ],
      "metadata": {
        "id": "LIheKA9U4Hyl"
      }
    },
    {
      "cell_type": "code",
      "source": [
        "avg_delay=flights.groupby(\"AIRLINE_NAME\")[\"DEPARTURE_DELAY\"].mean().sort_values(ascending=False)\n",
        "print(avg_delay)"
      ],
      "metadata": {
        "colab": {
          "base_uri": "https://localhost:8080/"
        },
        "id": "MxUVfn-E35BL",
        "outputId": "a629eefc-fcdc-4932-82af-e68657b28d3c"
      },
      "execution_count": null,
      "outputs": [
        {
          "output_type": "stream",
          "name": "stdout",
          "text": [
            "AIRLINE_NAME\n",
            "Spirit Air Lines                15.944766\n",
            "United Air Lines Inc.           14.435441\n",
            "Frontier Airlines Inc.          13.350858\n",
            "JetBlue Airways                 11.514353\n",
            "Southwest Airlines Co.          10.581986\n",
            "American Eagle Airlines Inc.    10.125188\n",
            "Virgin America                   9.022595\n",
            "American Airlines Inc.           8.900856\n",
            "Atlantic Southeast Airlines      8.715934\n",
            "Skywest Airlines Inc.            7.801104\n",
            "Delta Air Lines Inc.             7.369254\n",
            "US Airways Inc.                  6.141137\n",
            "Alaska Airlines Inc.             1.785801\n",
            "Hawaiian Airlines Inc.           0.485713\n",
            "Name: DEPARTURE_DELAY, dtype: float64\n"
          ]
        }
      ]
    },
    {
      "cell_type": "markdown",
      "source": [
        "#### 3️⃣ See top origin cities"
      ],
      "metadata": {
        "id": "uRCi6g7h72Vo"
      }
    },
    {
      "cell_type": "code",
      "source": [
        "# Top origin cities by number of flights\n",
        "sns.countplot(y=\"ORIGIN_CITY\", data=flights, order=flights[\"ORIGIN_CITY\"].value_counts().iloc[:10].index)\n",
        "plt.title(\"Top 10 Origin Cities\")\n",
        "plt.xlabel(\"Number of Flights\")\n",
        "plt.ylabel(\"City\")\n",
        "plt.show()\n"
      ],
      "metadata": {
        "colab": {
          "base_uri": "https://localhost:8080/",
          "height": 472
        },
        "id": "hZmTz6qp4gxW",
        "outputId": "fdc55a10-7675-4e56-8540-8b38fc5955f6"
      },
      "execution_count": null,
      "outputs": [
        {
          "output_type": "display_data",
          "data": {
            "text/plain": [
              "<Figure size 640x480 with 1 Axes>"
            ],
            "image/png": "[encoded data removed]"
          },
          "metadata": {}
        }
      ]
    },
    {
      "cell_type": "code",
      "source": [
        "flights.to_csv('flights_cleaned.csv', index=False)\n"
      ],
      "metadata": {
        "id": "xlE2PMqVpU2k"
      },
      "execution_count": null,
      "outputs": []
    },
    {
      "cell_type": "markdown",
      "source": [
        "###Conclusion (Part 1)\n",
        "\n",
        "In this first part of my Flight Delays Analysis, I loaded three large CSV files — flights, airlines, and airports — and successfully merged them to create an enriched dataset with airline names and origin city/state information.\n",
        "\n",
        "I handled missing values, created a new DELAYED column to mark flights with significant departure delays, and performed clear exploratory data analysis (EDA). The visualizations helped highlight patterns in delays by airline, city, and state, showing where and when delays are more common.\n",
        "\n",
        "This sets up the data perfectly for building a predictive model in the next part.\n",
        "\n",
        "✅ Data loading, merging, cleaning, and EDA are complete.\n",
        "📌 Next: Encode features, train a model, and evaluate predictions."
      ],
      "metadata": {
        "id": "f5igYVgjsIhJ"
      }
    }
  ]
}